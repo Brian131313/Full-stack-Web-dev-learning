{
 "cells": [
  {
   "cell_type": "code",
   "execution_count": 3,
   "id": "3df70557",
   "metadata": {},
   "outputs": [],
   "source": [
    "import torch"
   ]
  },
  {
   "cell_type": "markdown",
   "id": "95f1398f",
   "metadata": {},
   "source": [
    "# Getting information from tensors\n",
    "* Tensors not right datatype - to do get datatype from a tensor, can use tensor.dtype\n",
    "* Tensors not right shape - to get shape from a tensor, can use tensor.shape\n",
    "* Tensors not on the right device - to get device from a tensor, can use tensor.device\n"
   ]
  },
  {
   "cell_type": "code",
   "execution_count": 4,
   "id": "7fea98b4",
   "metadata": {},
   "outputs": [
    {
     "name": "stdout",
     "output_type": "stream",
     "text": [
      "tensor([[0.3267, 0.1936, 0.3346, 0.5559],\n",
      "        [0.7441, 0.7934, 0.8754, 0.7506],\n",
      "        [0.3607, 0.4372, 0.1082, 0.6963]])\n",
      "Datatype fo tensor: torch.float32\n",
      "Shape of tensor: torch.Size([3, 4])\n",
      "Device type fo tensor: cpu\n"
     ]
    }
   ],
   "source": [
    "some_tensor = torch.rand(3,4)\n",
    "# Find out details about some tensor\n",
    "print(some_tensor)\n",
    "print(f'Datatype fo tensor: {some_tensor.dtype}')\n",
    "print(f'Shape of tensor: {some_tensor.shape}')\n",
    "print(f'Device type fo tensor: {some_tensor.device}')"
   ]
  },
  {
   "cell_type": "code",
   "execution_count": null,
   "id": "5e607655",
   "metadata": {},
   "outputs": [],
   "source": []
  },
  {
   "cell_type": "markdown",
   "id": "b0627521",
   "metadata": {},
   "source": [
    "# Matrix multiplication  "
   ]
  },
  {
   "cell_type": "code",
   "execution_count": 7,
   "id": "82744a8a",
   "metadata": {},
   "outputs": [
    {
     "name": "stdout",
     "output_type": "stream",
     "text": [
      "tensor([2, 2, 3]) * tensor([2, 2, 3])\n",
      "Equals: tensor([4, 4, 9])\n"
     ]
    },
    {
     "data": {
      "text/plain": [
       "tensor(17)"
      ]
     },
     "execution_count": 7,
     "metadata": {},
     "output_type": "execute_result"
    }
   ],
   "source": [
    "\n",
    "tensor = torch.tensor([2,2,3])\n",
    "\n",
    "# Element wise multiplication\n",
    "print(tensor, '*', tensor)\n",
    "print(f'Equals: {tensor*tensor}')\n",
    "\n",
    "# Matrix multiplication\n",
    "torch.matmul(tensor, tensor)\n"
   ]
  },
  {
   "cell_type": "code",
   "execution_count": null,
   "id": "e24789c4",
   "metadata": {},
   "outputs": [],
   "source": []
  }
 ],
 "metadata": {
  "kernelspec": {
   "display_name": "Python 3.9.13 ('base')",
   "language": "python",
   "name": "python3"
  },
  "language_info": {
   "codemirror_mode": {
    "name": "ipython",
    "version": 3
   },
   "file_extension": ".py",
   "mimetype": "text/x-python",
   "name": "python",
   "nbconvert_exporter": "python",
   "pygments_lexer": "ipython3",
   "version": "3.9.13"
  },
  "vscode": {
   "interpreter": {
    "hash": "c831d2c4430d562f9725a634d0e9b3211cfeec667d703345529209e4ebf31f26"
   }
  }
 },
 "nbformat": 4,
 "nbformat_minor": 5
}
